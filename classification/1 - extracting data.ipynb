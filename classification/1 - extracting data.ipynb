{
 "cells": [
  {
   "cell_type": "code",
   "execution_count": 1,
   "metadata": {},
   "outputs": [],
   "source": [
    "import json\n",
    "import pandas as pd\n",
    "import gc\n",
    "import fasttext"
   ]
  },
  {
   "cell_type": "code",
   "execution_count": 3,
   "metadata": {},
   "outputs": [],
   "source": [
    "labels_category={\"bug\":\"bug\", \"enhancement\":\"feature\", \"support\":\"other\", \"docs\":\"other\", \"documentation\":\"other\", \"question\":\"other\"}\n",
    "first_level_columns = ['repository_url', 'number', 'title', 'body', 'locked', 'comments', 'created_at', 'updated_at', 'closed_at', 'author_association']\n",
    "reaction_columns = [\"total_count\", \"+1\", \"-1\", \"laugh\", \"hooray\", \"confused\", \"heart\", \"rocket\", \"eyes\"]"
   ]
  },
  {
   "cell_type": "code",
   "execution_count": 4,
   "metadata": {},
   "outputs": [],
   "source": [
    "def extract_data(dicts_list, key):\n",
    "    return([dict_item[key] for dict_item in dicts_list])"
   ]
  },
  {
   "cell_type": "code",
   "execution_count": 5,
   "metadata": {},
   "outputs": [
    {
     "name": "stdout",
     "output_type": "stream",
     "text": [
      "bug 471031\n",
      "enhancement 430849\n",
      "support 4712\n",
      "docs 4809\n",
      "documentation 26652\n",
      "question 77785\n"
     ]
    }
   ],
   "source": [
    "issues_list = []\n",
    "\n",
    "for label in labels_category.keys():\n",
    "    with open(f\"data/{label}_issues.txt\") as f:\n",
    "        issues = json.loads(f.read())\n",
    "        print(label, len(issues))\n",
    "        for issue in issues:\n",
    "            issue_dict = {c:issue[c] for c in first_level_columns}            \n",
    "            issue_dict[\"author_login\"] = issue[\"user\"][\"login\"]\n",
    "            issue_dict['is_pull_request'] = 1 if 'pull_request' in issue else 0\n",
    "            issue_dict['has_milestone'] = 0 if issue[\"milestone\"] == None else 1\n",
    "            issue_dict[\"has_assignee\"] = 0 if issue[\"assignee\"] == None else 1\n",
    "            issue_dict['labels'] = '|'.join(extract_data(issue['labels'], 'name'))\n",
    "            issue_dict['num_of_assignees'] = len(extract_data(issue['assignees'], 'login'))\n",
    "            for c in reaction_columns:\n",
    "                issue_dict[\"reaction_\" + c] = issue[\"reactions\"][c] \n",
    "            issue_dict[\"label\"] = label\n",
    "            issue_dict[\"label_cat\"] = labels_category[label]\n",
    "            issues_list.append(issue_dict)\n",
    "        issues.clear()\n",
    "        gc.collect()\n",
    "        \n",
    "df = pd.DataFrame(issues_list)"
   ]
  },
  {
   "cell_type": "code",
   "execution_count": 6,
   "metadata": {},
   "outputs": [
    {
     "data": {
      "text/plain": [
       "(1015838, 27)"
      ]
     },
     "execution_count": 6,
     "metadata": {},
     "output_type": "execute_result"
    }
   ],
   "source": [
    "df.shape"
   ]
  },
  {
   "cell_type": "code",
   "execution_count": 7,
   "metadata": {},
   "outputs": [
    {
     "data": {
      "text/plain": [
       "False    1015670\n",
       "True         168\n",
       "dtype: int64"
      ]
     },
     "execution_count": 7,
     "metadata": {},
     "output_type": "execute_result"
    }
   ],
   "source": [
    "df.duplicated(subset=[\"repository_url\",\"number\",\"label\"], keep='first').value_counts()"
   ]
  },
  {
   "cell_type": "code",
   "execution_count": 8,
   "metadata": {},
   "outputs": [
    {
     "data": {
      "text/plain": [
       "False    992740\n",
       "True      23098\n",
       "dtype: int64"
      ]
     },
     "execution_count": 8,
     "metadata": {},
     "output_type": "execute_result"
    }
   ],
   "source": [
    "df.duplicated(subset=[\"repository_url\",\"number\"], keep='first').value_counts()"
   ]
  },
  {
   "cell_type": "code",
   "execution_count": 9,
   "metadata": {},
   "outputs": [],
   "source": [
    "df.drop_duplicates(subset=[\"repository_url\",\"number\"], inplace=True)"
   ]
  },
  {
   "cell_type": "code",
   "execution_count": 10,
   "metadata": {},
   "outputs": [],
   "source": [
    "df['title_len'] = df['title'].apply(lambda x: 0 if not x else len(x))\n",
    "df['body_len'] = df['body'].apply(lambda x: 0 if not x else len(x))\n",
    "df['numeric_association'] = df['author_association'].apply(lambda x: 0 if x == \"NONE\"  else 1 if x == \"CONTRIBUTOR\" else 2 if x == \"MEMBER\" else 3 if x == \"OWNER\" else 4)\n",
    "df[\"author_core_team\"] = df[\"author_association\"].apply(lambda x: 1 if x in [\"OWNER\", \"MEMBER\"] else 0)\n",
    "df[\"author_has_association\"] = df[\"author_association\"].apply(lambda x: 0 if x == \"NONE\" else 1)         \n",
    "df['labels_count'] = df[\"labels\"].apply(lambda x: len(x.split('|')))"
   ]
  },
  {
   "cell_type": "code",
   "execution_count": 11,
   "metadata": {},
   "outputs": [],
   "source": [
    "df[\"title\"] = df[\"title\"].astype(str)\n",
    "df[\"body\"] = df[\"body\"].astype(str)\n",
    "df['title'] = df['title'].apply(lambda x:\" \".join(x.split()))\n",
    "df['body'] = df['body'].apply(lambda x:\" \".join(x.split()))"
   ]
  },
  {
   "cell_type": "code",
   "execution_count": 12,
   "metadata": {},
   "outputs": [
    {
     "name": "stderr",
     "output_type": "stream",
     "text": [
      "\n"
     ]
    }
   ],
   "source": [
    "model = fasttext.load_model('data/lid.176.bin')\n",
    "title_langs = model.predict(list(df[\"title\"]))[0]\n",
    "body_langs = model.predict(list(df[\"body\"]))[0]"
   ]
  },
  {
   "cell_type": "code",
   "execution_count": null,
   "metadata": {},
   "outputs": [],
   "source": [
    "df[\"title_lang\"] = list(map(lambda x: x[0] , title_langs))\n",
    "df[\"body_lang\"] = list(map(lambda x: x[0] , body_langs))\n",
    "title_langs.clear()\n",
    "body_langs.clear()"
   ]
  },
  {
   "cell_type": "code",
   "execution_count": 16,
   "metadata": {},
   "outputs": [
    {
     "name": "stdout",
     "output_type": "stream",
     "text": [
      "(886439, 34)\n",
      "(920696, 34)\n",
      "(871878, 34)\n"
     ]
    }
   ],
   "source": [
    "print(df[df[\"title_lang\"]==\"__label__en\"].shape)\n",
    "print(df[df[\"body_lang\"]==\"__label__en\"].shape)\n",
    "print(df[(df[\"title_lang\"]==\"__label__en\") & (df[\"body_lang\"]==\"__label__en\")].shape)"
   ]
  },
  {
   "cell_type": "code",
   "execution_count": 18,
   "metadata": {},
   "outputs": [
    {
     "data": {
      "text/plain": [
       "__label__en    886439\n",
       "__label__zh     19575\n",
       "__label__es     12245\n",
       "__label__de     11811\n",
       "__label__fr      8746\n",
       "                ...  \n",
       "__label__tk         1\n",
       "__label__cv         1\n",
       "__label__mg         1\n",
       "__label__rm         1\n",
       "__label__ku         1\n",
       "Name: title_lang, Length: 134, dtype: int64"
      ]
     },
     "execution_count": 18,
     "metadata": {},
     "output_type": "execute_result"
    }
   ],
   "source": [
    "df[\"title_lang\"].value_counts()"
   ]
  },
  {
   "cell_type": "code",
   "execution_count": 19,
   "metadata": {},
   "outputs": [],
   "source": [
    "df = df[(df[\"title_lang\"]==\"__label__en\") & (df[\"body_lang\"]==\"__label__en\")]"
   ]
  },
  {
   "cell_type": "code",
   "execution_count": 32,
   "metadata": {},
   "outputs": [],
   "source": [
    "df.drop(columns=[\"title_lang\", \"body_lang\"], inplace=True)"
   ]
  },
  {
   "cell_type": "code",
   "execution_count": 33,
   "metadata": {},
   "outputs": [],
   "source": [
    "df.to_csv(\"data/english_issues.csv\", index=False)"
   ]
  },
  {
   "cell_type": "code",
   "execution_count": 5,
   "metadata": {},
   "outputs": [
    {
     "data": {
      "text/plain": [
       "False    747058\n",
       "True     124820\n",
       "Name: body, dtype: int64"
      ]
     },
     "execution_count": 5,
     "metadata": {},
     "output_type": "execute_result"
    }
   ],
   "source": [
    "df.body.isna().value_counts()"
   ]
  }
 ],
 "metadata": {
  "kernelspec": {
   "display_name": "Python 3",
   "language": "python",
   "name": "python3"
  },
  "language_info": {
   "codemirror_mode": {
    "name": "ipython",
    "version": 3
   },
   "file_extension": ".py",
   "mimetype": "text/x-python",
   "name": "python",
   "nbconvert_exporter": "python",
   "pygments_lexer": "ipython3",
   "version": "3.7.7"
  }
 },
 "nbformat": 4,
 "nbformat_minor": 4
}
