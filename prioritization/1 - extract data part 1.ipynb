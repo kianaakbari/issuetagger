{
 "cells": [
  {
   "cell_type": "code",
   "execution_count": 1,
   "metadata": {},
   "outputs": [],
   "source": [
    "import pandas as pd\n",
    "import json\n",
    "import ast\n",
    "import numpy as np\n",
    "from datetime import datetime\n",
    "import time"
   ]
  },
  {
   "cell_type": "code",
   "execution_count": 16,
   "metadata": {},
   "outputs": [],
   "source": [
    "def process(reponame):\n",
    "    repo = reponame\n",
    "    df = pd.read_csv(\"../data/repos/0/\" + repo + \".csv\")\n",
    "    json_dict = {}\n",
    "\n",
    "    df['repository'] = repo\n",
    "\n",
    "    obj_columns = ['author', 'comments', 'events', 'issue']\n",
    "    for c in obj_columns:\n",
    "        json_dict[c + '_object'] = df[c + '_obj'].apply(json.loads)\n",
    "    json_dict['closer_object'] = df['closer_obj'].apply(lambda x : np.nan if pd.isnull(x) else json.loads(x))\n",
    "\n",
    "    #issue_info\n",
    "\n",
    "    def extract_data(dicts_list, key):\n",
    "        result = []\n",
    "        for dict_item in dicts_list:\n",
    "            result.append(dict_item[key])\n",
    "        return(result)\n",
    "\n",
    "    issue_columns = ['title', 'body', 'state', 'locked', 'assignee', 'milestone', 'comments', 'created_at', 'updated_at', 'closed_at']\n",
    "    for c in issue_columns:\n",
    "        df[c] = json_dict['issue_object'].apply(lambda x:x[c])\n",
    "\n",
    "    df['author_association'] = json_dict['issue_object'].apply(lambda x:x['author_association'])\n",
    "    df['is_pull_request'] = json_dict['issue_object'].apply(lambda x: 1 if 'pull_request' in x else 0)\n",
    "    df['labels'] = json_dict['issue_object'].apply(lambda x: '|'.join(extract_data(x['labels'], 'name')) if x['labels'] else None)\n",
    "    df['assignees'] = json_dict['issue_object'].apply(lambda x: '|'.join(extract_data(x['assignees'], 'login')) if x['assignees'] else None)\n",
    "\n",
    "    df['title_len'] = df['title'].apply(lambda x: 0 if not x else len(x))\n",
    "    df['body_len'] = df['body'].apply(lambda x: 0 if not x else len(x))\n",
    "\n",
    "    df['num_comments'] = json_dict['comments_object'].apply(len)\n",
    "    df['num_events'] = json_dict['events_object'].apply(len)\n",
    "\n",
    "    #author and closer info\n",
    "    user_columns = ['login', 'location', 'followers', 'following', 'public_repos', 'public_gists', 'created_at', 'updated_at', 'bio', 'site_admin', 'type']\n",
    "    for c in user_columns:\n",
    "        df[\"author_\"+c] = json_dict['author_object'].apply(lambda x:x[c])\n",
    "        df[\"closer_\"+c] = json_dict['closer_object'].apply(lambda x:np.nan if pd.isnull(x) else x[c])\n",
    "\n",
    "    df[\"author_core_team\"] = df[\"author_association\"].apply(lambda x: 1 if x in [\"OWNER\", \"MEMBER\"] else 0)\n",
    "    df[\"author_has_association\"] = df[\"author_association\"].apply(lambda x: 0 if x == \"NONE\" else 1) \n",
    "\n",
    "    author_issue_counts = df.author_login.value_counts()\n",
    "    df[\"author_issue_counts\"] = df[\"author_login\"].apply(lambda x:author_issue_counts[x])\n",
    "\n",
    "    df.to_csv(\"../data/repos/1/\" + repo + \".csv\", index=False)"
   ]
  },
  {
   "cell_type": "code",
   "execution_count": 18,
   "metadata": {},
   "outputs": [],
   "source": [
    "for reponame in [\"okhttp\", \"retrofit\", \"RxJava\", \"guava\", \"spring-boot\", \"spring-framework\", \"elasticsearch\"]:\n",
    "    process(reponame)"
   ]
  }
 ],
 "metadata": {
  "kernelspec": {
   "display_name": "Python 3",
   "language": "python",
   "name": "python3"
  },
  "language_info": {
   "codemirror_mode": {
    "name": "ipython",
    "version": 3
   },
   "file_extension": ".py",
   "mimetype": "text/x-python",
   "name": "python",
   "nbconvert_exporter": "python",
   "pygments_lexer": "ipython3",
   "version": "3.7.6"
  }
 },
 "nbformat": 4,
 "nbformat_minor": 4
}
