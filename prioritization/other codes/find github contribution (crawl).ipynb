{
 "cells": [
  {
   "cell_type": "code",
   "execution_count": 7,
   "metadata": {},
   "outputs": [],
   "source": [
    "import urllib.request\n",
    "from bs4 import BeautifulSoup\n",
    "import contextlib\n",
    "import pandas as pd\n",
    "import re\n",
    "import numpy as np\n",
    "import threading\n",
    "import json\n",
    "from nltk.stem import WordNetLemmatizer"
   ]
  },
  {
   "cell_type": "code",
   "execution_count": 2,
   "metadata": {},
   "outputs": [],
   "source": [
    "repo = \"spring-boot\""
   ]
  },
  {
   "cell_type": "code",
   "execution_count": 4,
   "metadata": {},
   "outputs": [],
   "source": [
    "# l1 = list(df.author_login.value_counts().keys())\n",
    "# l2 = list(df.closer_login.value_counts().keys())\n",
    "# l = list(set(l1+l2))\n",
    "# with open(repo + \"_users.txt\", 'w') as f:\n",
    "#     f.write(json.dumps(l))"
   ]
  },
  {
   "cell_type": "code",
   "execution_count": null,
   "metadata": {},
   "outputs": [],
   "source": [
    "with open(\"users/\" + repo + \"_users.txt\") as f:\n",
    "    x = f.read()\n",
    "    users = json.loads(x)"
   ]
  },
  {
   "cell_type": "code",
   "execution_count": 32,
   "metadata": {},
   "outputs": [],
   "source": [
    "users_contribution = dict()\n",
    "org_users = []\n",
    "invalid_users = []\n",
    "unlucky_users = []\n",
    "others = []"
   ]
  },
  {
   "cell_type": "code",
   "execution_count": null,
   "metadata": {},
   "outputs": [],
   "source": [
    "for i, user in enumerate(users):\n",
    "    print(i)\n",
    "    try:    \n",
    "        with contextlib.closing(urllib.request.urlopen(\"https://github.com/\" + user)) as page:\n",
    "            soup = BeautifulSoup(page.read())       \n",
    "            cntrb_section = soup.find_all(\"h2\", {\"class\" : \"f4 text-normal mb-2\"})\n",
    "            if cntrb_section:\n",
    "                users_contribution[user] = re.findall(\"[0-9,]* contribution\", cntrb_section[0].text)[0][:-13]\n",
    "            elif user == \"ghost\":\n",
    "                users_contribution[user] = np.nan\n",
    "            else:\n",
    "                head_section = soup.find_all(\"a\", {\"class\" : \"pagehead-tabs-item\"})\n",
    "                if head_section:                \n",
    "                    org_users.append(user)\n",
    "                else:\n",
    "                    print(\"some problem ouside exception for\", user)\n",
    "                    others.append(user)\n",
    "                users_contribution[user] = np.nan\n",
    "    except Exception as e:\n",
    "        users_contribution[user] = np.nan\n",
    "        if(str(e) == \"HTTP Error 429: too many requests\" or str(e) == \"<urlopen error [Errno -3] Temporary failure in name resolution>\"):\n",
    "            unlucky_users.append(user)\n",
    "        elif str(e) == \"HTTP Error 404: Not Found\":\n",
    "            invalid_users.append(user)\n",
    "        else: \n",
    "            others.append(user)\n",
    "        print(str(e))\n",
    "        print(\"user is\", user)"
   ]
  },
  {
   "cell_type": "code",
   "execution_count": 34,
   "metadata": {},
   "outputs": [
    {
     "data": {
      "text/plain": [
       "['netroby']"
      ]
     },
     "execution_count": 34,
     "metadata": {},
     "output_type": "execute_result"
    }
   ],
   "source": [
    "invalid_users"
   ]
  },
  {
   "cell_type": "code",
   "execution_count": 35,
   "metadata": {},
   "outputs": [
    {
     "data": {
      "text/plain": [
       "[]"
      ]
     },
     "execution_count": 35,
     "metadata": {},
     "output_type": "execute_result"
    }
   ],
   "source": [
    "org_users"
   ]
  },
  {
   "cell_type": "code",
   "execution_count": 36,
   "metadata": {},
   "outputs": [
    {
     "data": {
      "text/plain": [
       "[]"
      ]
     },
     "execution_count": 36,
     "metadata": {},
     "output_type": "execute_result"
    }
   ],
   "source": [
    "unlucky_users"
   ]
  },
  {
   "cell_type": "code",
   "execution_count": 37,
   "metadata": {},
   "outputs": [
    {
     "data": {
      "text/plain": [
       "[]"
      ]
     },
     "execution_count": 37,
     "metadata": {},
     "output_type": "execute_result"
    }
   ],
   "source": [
    "others"
   ]
  },
  {
   "cell_type": "code",
   "execution_count": 38,
   "metadata": {},
   "outputs": [
    {
     "data": {
      "text/plain": [
       "114"
      ]
     },
     "execution_count": 38,
     "metadata": {},
     "output_type": "execute_result"
    }
   ],
   "source": [
    "len(users)"
   ]
  },
  {
   "cell_type": "code",
   "execution_count": 39,
   "metadata": {},
   "outputs": [
    {
     "data": {
      "text/plain": [
       "114"
      ]
     },
     "execution_count": 39,
     "metadata": {},
     "output_type": "execute_result"
    }
   ],
   "source": [
    "len(users_contribution)"
   ]
  },
  {
   "cell_type": "code",
   "execution_count": 10,
   "metadata": {},
   "outputs": [],
   "source": [
    "with open(\"cntrb/\" + repo + \"_github_cntrb1.txt\", 'w') as f:\n",
    "    f.write(json.dumps(users_contribution , indent = 4))"
   ]
  },
  {
   "cell_type": "code",
   "execution_count": null,
   "metadata": {},
   "outputs": [],
   "source": []
  }
 ],
 "metadata": {
  "kernelspec": {
   "display_name": "Python 3",
   "language": "python",
   "name": "python3"
  },
  "language_info": {
   "codemirror_mode": {
    "name": "ipython",
    "version": 3
   },
   "file_extension": ".py",
   "mimetype": "text/x-python",
   "name": "python",
   "nbconvert_exporter": "python",
   "pygments_lexer": "ipython3",
   "version": "3.7.7"
  }
 },
 "nbformat": 4,
 "nbformat_minor": 4
}
