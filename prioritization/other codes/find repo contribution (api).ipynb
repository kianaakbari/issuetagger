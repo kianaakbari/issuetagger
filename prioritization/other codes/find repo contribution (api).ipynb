{
 "cells": [
  {
   "cell_type": "code",
   "execution_count": 10,
   "metadata": {},
   "outputs": [
    {
     "name": "stdout",
     "output_type": "stream",
     "text": [
      "Starting time:2020-05-11 19:35:08.342382\n",
      "1\n",
      "2\n",
      "3\n",
      "4\n",
      "End time:2020-05-11 19:35:14.018309\n"
     ]
    }
   ],
   "source": [
    "import requests\n",
    "import json\n",
    "import pandas as pd\n",
    "import numpy as np\n",
    "from requests.auth import HTTPBasicAuth\n",
    "from datetime import datetime\n",
    "import time\n",
    "import re\n",
    "import sys\n",
    "import numpy as np\n",
    "\n",
    "owner = \"elastic\"\n",
    "repo = \"elasticsearch\"\n",
    "# owner = \"spring-projects\"\n",
    "# repo = \"spring-framework\"\n",
    "\n",
    "delay_conn = 10\n",
    "clients = [('2cc352a6c740826a4be6', 'daebc120eb033a0e7cd175f72d3b5bee9ebb5b42'),\n",
    "           ('2aaa427b39670c92148e', 'b1b2204e84d861ab2c306fe317f451ab5e4cc2e4'),\n",
    "           ('6b324dbf8ccd0c7aee80', '3828eaf02fac452006c4dfa3221a1eaed42c9ab7'),\n",
    "           ('e42eb9683051f5bde934', '5afda3713ff17f5d99047b67f12aa5ca484abfc3'),\n",
    "           ('249b7f447a69e0311bae', 'dea9eccf207e3ed899f2074069f04d075ed569b3')]\n",
    "clients_number = len(clients)          \n",
    "client_index = 0\n",
    "headers = {}\n",
    "headers['Accept'] = 'application/vnd.github.starfox-preview+json'\n",
    "\n",
    "\n",
    "def get_data_pages(req_url):    \n",
    "    page_number = 1\n",
    "    resp_list = [] \n",
    "    \n",
    "    while(True):\n",
    "        print(page_number)\n",
    "        number_of_tries = 10\n",
    "        try:   \n",
    "            r = requests.get(req_url + \"&page=\" + str(page_number), headers=headers)            \n",
    "            if(r.ok):                            \n",
    "                result = json.loads(r.text or r.content)\n",
    "                resp_list += result            \n",
    "\n",
    "                if not result:\n",
    "                    break\n",
    "                \n",
    "                if(len(result)<100):\n",
    "                    break\n",
    "                    \n",
    "                page_number += 1\n",
    "                    \n",
    "                # check for max limit\n",
    "                try:\n",
    "                    if int(r.headers[\"X-RateLimit-Remaining\"]) < 10:\n",
    "                        print(\"limit exceeded!!!!!!!!!!!!\")\n",
    "                        delay = float(r.headers[\"X-RateLimit-Reset\"]) - time.mktime(time.localtime())#.total_seconds()\n",
    "                        print('sleeping for '+str(delay)+' seconds...')\n",
    "                        print(\"current time:\" + str(datetime.now()))\n",
    "                        time.sleep(int(delay))\n",
    "                except (KeyError):\n",
    "                    pass            \n",
    "            else:\n",
    "                j = json.loads(r.text or r.content)\n",
    "                print('\\n---'+str(r))\n",
    "                print('\\n---'+str(j['message']))\n",
    "                return False\n",
    "        except requests.exceptions.Timeout as e:\n",
    "            print(\"-------timeout-------\")\n",
    "            print(e)\n",
    "            number_of_tries-=1\n",
    "            if(number_of_tries):\n",
    "                time.sleep(delay_conn)\n",
    "                get_data_pages(req_url)\n",
    "            else:\n",
    "                sys.exit(1)\n",
    "        except requests.ConnectionError as e:\n",
    "            print(\"-------connection error-------\")\n",
    "            print(e)\n",
    "            number_of_tries-=1\n",
    "            if(number_of_tries):\n",
    "                time.sleep(delay_conn)\n",
    "                get_data_pages(req_url)\n",
    "            else:\n",
    "                sys.exit(1)\n",
    "    return resp_list\n",
    "\n",
    "print(\"Starting time:\" + str(datetime.now()))\n",
    "\n",
    "client_id, client_secret = clients[client_index]\n",
    "req = \"https://api.github.com/repos/\" + owner + '/' + repo + \"/contributors\" + \"?per_page=100&client_id=\" + client_id + \"&client_secret=\" + client_secret  \n",
    "cntrb_obj = get_data_pages(req)\n",
    "    \n",
    "print(\"End time:\" + str(datetime.now()))"
   ]
  },
  {
   "cell_type": "code",
   "execution_count": 11,
   "metadata": {},
   "outputs": [
    {
     "data": {
      "text/plain": [
       "356"
      ]
     },
     "execution_count": 11,
     "metadata": {},
     "output_type": "execute_result"
    }
   ],
   "source": [
    "len(cntrb_obj)"
   ]
  },
  {
   "cell_type": "code",
   "execution_count": 25,
   "metadata": {},
   "outputs": [],
   "source": [
    "repo = \"spring-boot\"\n",
    "# owner = \"spring-projects\"\n",
    "# repo = \"spring-framework\""
   ]
  },
  {
   "cell_type": "code",
   "execution_count": 27,
   "metadata": {},
   "outputs": [],
   "source": [
    "d = dict()"
   ]
  },
  {
   "cell_type": "code",
   "execution_count": 28,
   "metadata": {},
   "outputs": [],
   "source": [
    "for i in l:\n",
    "    d[i[\"login\"]] = i[\"contributions\"]"
   ]
  },
  {
   "cell_type": "code",
   "execution_count": 29,
   "metadata": {},
   "outputs": [],
   "source": [
    "with open(\"cntrb/\" + repo + \"_repo_cntrb.txt\", 'w') as f:\n",
    "    f.write(json.dumps(d , indent = 4))"
   ]
  },
  {
   "cell_type": "code",
   "execution_count": null,
   "metadata": {},
   "outputs": [],
   "source": []
  }
 ],
 "metadata": {
  "kernelspec": {
   "display_name": "Python 3",
   "language": "python",
   "name": "python3"
  },
  "language_info": {
   "codemirror_mode": {
    "name": "ipython",
    "version": 3
   },
   "file_extension": ".py",
   "mimetype": "text/x-python",
   "name": "python",
   "nbconvert_exporter": "python",
   "pygments_lexer": "ipython3",
   "version": "3.7.7"
  }
 },
 "nbformat": 4,
 "nbformat_minor": 4
}
