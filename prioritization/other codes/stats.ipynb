{
 "cells": [
  {
   "cell_type": "code",
   "execution_count": 1,
   "metadata": {},
   "outputs": [],
   "source": [
    "import pandas as pd\n",
    "import numpy as np\n",
    "import json\n",
    "from datetime import datetime\n",
    "import time\n",
    "import seaborn as sns"
   ]
  },
  {
   "cell_type": "code",
   "execution_count": 2,
   "metadata": {},
   "outputs": [
    {
     "name": "stderr",
     "output_type": "stream",
     "text": [
      "F:\\Users\\PC_Kiana\\Anaconda3\\lib\\site-packages\\IPython\\core\\interactiveshell.py:3063: DtypeWarning: Columns (7,22,36) have mixed types. Specify dtype option on import or set low_memory=False.\n",
      "  interactivity=interactivity, compiler=compiler, result=result)\n"
     ]
    }
   ],
   "source": [
    "df = pd.read_csv(\"../data/repos/findal_df.csv\")\n",
    "dataframes = dict()\n",
    "dataframes[\"cross-project\"] = df\n",
    "dataframes[\"elasticsearch\"] =  df[df.repository == \"elasticsearch\"]\n",
    "dataframes[\"spring-framework\"] =  df[df.repository == \"spring-framework\"]\n",
    "dataframes[\"spring-boot\"] =  df[(df.repository == \"spring-boot\") & (df.closer_login != \"spring-issuemaster\")]\n",
    "repos = list(dataframes.keys())"
   ]
  },
  {
   "cell_type": "code",
   "execution_count": 4,
   "metadata": {},
   "outputs": [
    {
     "data": {
      "text/plain": [
       "elasticsearch       44100\n",
       "spring-framework    19717\n",
       "spring-boot         15255\n",
       "Name: repository, dtype: int64"
      ]
     },
     "execution_count": 4,
     "metadata": {},
     "output_type": "execute_result"
    }
   ],
   "source": [
    "dataframes[\"cross-project\"].repository.value_counts()"
   ]
  },
  {
   "cell_type": "code",
   "execution_count": 5,
   "metadata": {},
   "outputs": [
    {
     "name": "stdout",
     "output_type": "stream",
     "text": [
      "cross-project:\n",
      "median of reaction time --> 47.73333333333333\n",
      "count    5.705100e+04\n",
      "mean     1.155165e+05\n",
      "std      6.140390e+05\n",
      "min      0.000000e+00\n",
      "25%      5.000000e-02\n",
      "50%      4.773333e+01\n",
      "75%      1.329117e+03\n",
      "max      7.488217e+06\n",
      "Name: reaction_time, dtype: float64\n",
      "-------------------\n",
      "elasticsearch:\n",
      "median of reaction time --> 1.9916666666666663\n",
      "count    3.172400e+04\n",
      "mean     1.573315e+04\n",
      "std      1.453861e+05\n",
      "min      0.000000e+00\n",
      "25%      3.333333e-02\n",
      "50%      1.991667e+00\n",
      "75%      2.576375e+02\n",
      "max      3.578191e+06\n",
      "Name: reaction_time, dtype: float64\n",
      "-------------------\n",
      "spring-framework:\n",
      "median of reaction time --> 1346.7\n",
      "count    1.591700e+04\n",
      "mean     3.789264e+05\n",
      "std      1.100732e+06\n",
      "min      0.000000e+00\n",
      "25%      8.595000e+01\n",
      "50%      1.346700e+03\n",
      "75%      2.884787e+04\n",
      "max      7.488217e+06\n",
      "Name: reaction_time, dtype: float64\n",
      "-------------------\n",
      "spring-boot:\n",
      "median of reaction time --> 46.13333333333333\n",
      "count    9.391000e+03\n",
      "mean     6.349494e+03\n",
      "std      4.993560e+04\n",
      "min      0.000000e+00\n",
      "25%      1.500000e-01\n",
      "50%      4.613333e+01\n",
      "75%      6.833333e+02\n",
      "max      1.530094e+06\n",
      "Name: reaction_time, dtype: float64\n",
      "-------------------\n"
     ]
    }
   ],
   "source": [
    "for repo in repos:\n",
    "    print(f\"{repo}:\")\n",
    "    print(\"median of reaction time -->\", dataframes[repo].reaction_time.median())\n",
    "    print(dataframes[repo].reaction_time.describe())\n",
    "    print(\"-------------------\")"
   ]
  },
  {
   "cell_type": "code",
   "execution_count": 3,
   "metadata": {},
   "outputs": [],
   "source": [
    "important_events_name = [\n",
    "    \"assigned\",\n",
    "    \"closed\",\n",
    "    \"labeled\",\n",
    "    \"mentioned\",\n",
    "    \"merged\",\n",
    "    \"milestoned\",\n",
    "    \"referenced\",\n",
    "    \"review_requested\",\n",
    "    \"added_to_project\",\n",
    "    \"converted_note_to_issue\",\n",
    "    \"moved_columns_in_project\",\n",
    "]\n",
    "# \"subscribed\"\n",
    "\n",
    "determinative_events_name = [\n",
    "    \"milestoned\",\"assigned\",\n",
    "    \"merged\",\n",
    "    \"referenced\",\n",
    "    \"added_to_project\",\n",
    "    \"converted_note_to_issue\",\n",
    "    \"moved_columns_in_project\",\n",
    "]\n",
    "#comment"
   ]
  },
  {
   "cell_type": "code",
   "execution_count": 4,
   "metadata": {},
   "outputs": [],
   "source": [
    "def compute_time_interval(t1, t2):\n",
    "    d1 = datetime.strptime(t1, \"%Y-%m-%dT%H:%M:%SZ\")\n",
    "    d2 = datetime.strptime(t2, \"%Y-%m-%dT%H:%M:%SZ\")\n",
    "    delta = d2-d1\n",
    "    minutes = delta.days*24*60 + delta.seconds/60\n",
    "    return minutes"
   ]
  },
  {
   "cell_type": "code",
   "execution_count": 5,
   "metadata": {},
   "outputs": [
    {
     "data": {
      "text/plain": [
       "0    18280\n",
       "1       41\n",
       "Name: important_events, dtype: int64"
      ]
     },
     "execution_count": 5,
     "metadata": {},
     "output_type": "execute_result"
    }
   ],
   "source": [
    "#number of merged issues\n",
    "df['important_events'].apply(lambda x: 1 if \"merged\" in json.loads(x) else 0).value_counts()"
   ]
  },
  {
   "cell_type": "code",
   "execution_count": 6,
   "metadata": {},
   "outputs": [],
   "source": [
    "def issues_event_time(event_name):\n",
    "    times = df.apply(lambda x: np.nan if not event_name in x['important_events'] else compute_time_interval(x['issue_created_at'], json.loads(x['important_events'])[event_name]), axis=1)\n",
    "    times.hist()\n",
    "    print(times.describe())\n",
    "    return times"
   ]
  },
  {
   "cell_type": "code",
   "execution_count": 9,
   "metadata": {},
   "outputs": [
    {
     "name": "stdout",
     "output_type": "stream",
     "text": [
      "count       41.000000\n",
      "mean      2966.494715\n",
      "std       9791.762640\n",
      "min          1.900000\n",
      "25%         24.650000\n",
      "50%        211.883333\n",
      "75%       1171.350000\n",
      "max      60588.333333\n",
      "dtype: float64\n"
     ]
    },
    {
     "data": {
      "image/png": "[encoded data removed]",
      "text/plain": [
       "<Figure size 432x288 with 1 Axes>"
      ]
     },
     "metadata": {
      "needs_background": "light"
     },
     "output_type": "display_data"
    }
   ],
   "source": [
    "df[\"merge_time\"] = issues_event_time(\"merged\")"
   ]
  },
  {
   "cell_type": "code",
   "execution_count": 10,
   "metadata": {},
   "outputs": [
    {
     "name": "stdout",
     "output_type": "stream",
     "text": [
      "count    6.872000e+03\n",
      "mean     5.461732e+04\n",
      "std      2.069436e+05\n",
      "min      1.666667e-01\n",
      "25%      1.882625e+02\n",
      "50%      2.487375e+03\n",
      "75%      2.149942e+04\n",
      "max      3.168416e+06\n",
      "dtype: float64\n"
     ]
    },
    {
     "data": {
      "image/png": "[encoded data removed]",
      "text/plain": [
       "<Figure size 432x288 with 1 Axes>"
      ]
     },
     "metadata": {
      "needs_background": "light"
     },
     "output_type": "display_data"
    }
   ],
   "source": [
    "df[\"referenced_time\"] = issues_event_time(\"referenced\")"
   ]
  },
  {
   "cell_type": "code",
   "execution_count": 11,
   "metadata": {},
   "outputs": [
    {
     "data": {
      "text/plain": [
       "<matplotlib.axes._subplots.AxesSubplot at 0x1c503314e08>"
      ]
     },
     "execution_count": 11,
     "metadata": {},
     "output_type": "execute_result"
    },
    {
     "data": {
      "image/png": "[encoded data removed]",
      "text/plain": [
       "<Figure size 432x288 with 1 Axes>"
      ]
     },
     "metadata": {
      "needs_background": "light"
     },
     "output_type": "display_data"
    }
   ],
   "source": [
    "df.boxplot(column=['merge_time', \"referenced_time\"])"
   ]
  },
  {
   "cell_type": "code",
   "execution_count": 12,
   "metadata": {},
   "outputs": [
    {
     "data": {
      "text/plain": [
       "<matplotlib.axes._subplots.AxesSubplot at 0x1c503e78148>"
      ]
     },
     "execution_count": 12,
     "metadata": {},
     "output_type": "execute_result"
    },
    {
     "data": {
      "image/png": "[encoded data removed]",
      "text/plain": [
       "<Figure size 432x288 with 1 Axes>"
      ]
     },
     "metadata": {
      "needs_background": "light"
     },
     "output_type": "display_data"
    }
   ],
   "source": [
    "df['commits_count'].hist()"
   ]
  },
  {
   "cell_type": "code",
   "execution_count": 13,
   "metadata": {},
   "outputs": [
    {
     "data": {
      "text/plain": [
       "0     7374\n",
       "1     5955\n",
       "2     2925\n",
       "3     1279\n",
       "4      380\n",
       "5      168\n",
       "6       82\n",
       "7       43\n",
       "8       40\n",
       "9       22\n",
       "11      11\n",
       "10      11\n",
       "12      10\n",
       "14       5\n",
       "19       4\n",
       "15       3\n",
       "16       2\n",
       "36       1\n",
       "76       1\n",
       "18       1\n",
       "13       1\n",
       "49       1\n",
       "33       1\n",
       "29       1\n",
       "Name: commits_count, dtype: int64"
      ]
     },
     "execution_count": 13,
     "metadata": {},
     "output_type": "execute_result"
    }
   ],
   "source": [
    "df['commits_count'].value_counts()"
   ]
  },
  {
   "cell_type": "code",
   "execution_count": 14,
   "metadata": {},
   "outputs": [
    {
     "data": {
      "text/plain": [
       "False    12326\n",
       "True      5995\n",
       "Name: reaction_time, dtype: int64"
      ]
     },
     "execution_count": 14,
     "metadata": {},
     "output_type": "execute_result"
    }
   ],
   "source": [
    "df[\"reaction_time\"].isna().value_counts()"
   ]
  },
  {
   "cell_type": "code",
   "execution_count": 15,
   "metadata": {},
   "outputs": [
    {
     "data": {
      "text/plain": [
       "count    1.232600e+04\n",
       "mean     5.167651e+03\n",
       "std      4.669056e+04\n",
       "min      0.000000e+00\n",
       "25%      0.000000e+00\n",
       "50%      8.791667e+00\n",
       "75%      4.019625e+02\n",
       "max      1.786914e+06\n",
       "Name: reaction_time, dtype: float64"
      ]
     },
     "execution_count": 15,
     "metadata": {},
     "output_type": "execute_result"
    }
   ],
   "source": [
    "df[\"reaction_time\"].describe()"
   ]
  },
  {
   "cell_type": "code",
   "execution_count": 16,
   "metadata": {},
   "outputs": [],
   "source": [
    "xx = df[df.reaction_time!=0]"
   ]
  },
  {
   "cell_type": "code",
   "execution_count": 17,
   "metadata": {},
   "outputs": [
    {
     "data": {
      "text/plain": [
       "count    8.350000e+03\n",
       "mean     7.628319e+03\n",
       "std      5.656332e+04\n",
       "min      1.666667e-02\n",
       "25%      7.183333e+00\n",
       "50%      1.251833e+02\n",
       "75%      9.885542e+02\n",
       "max      1.786914e+06\n",
       "Name: reaction_time, dtype: float64"
      ]
     },
     "execution_count": 17,
     "metadata": {},
     "output_type": "execute_result"
    }
   ],
   "source": [
    "xx.reaction_time.describe()"
   ]
  },
  {
   "cell_type": "code",
   "execution_count": 18,
   "metadata": {},
   "outputs": [
    {
     "data": {
      "text/plain": [
       "<matplotlib.axes._subplots.AxesSubplot at 0x1c502e35dc8>"
      ]
     },
     "execution_count": 18,
     "metadata": {},
     "output_type": "execute_result"
    },
    {
     "data": {
      "image/png": "[encoded data removed]",
      "text/plain": [
       "<Figure size 432x288 with 1 Axes>"
      ]
     },
     "metadata": {
      "needs_background": "light"
     },
     "output_type": "display_data"
    }
   ],
   "source": [
    "xx.reaction_time.hist()"
   ]
  },
  {
   "cell_type": "code",
   "execution_count": 25,
   "metadata": {},
   "outputs": [
    {
     "data": {
      "text/plain": [
       "<matplotlib.axes._subplots.AxesSubplot at 0x1c509dea808>"
      ]
     },
     "execution_count": 25,
     "metadata": {},
     "output_type": "execute_result"
    },
    {
     "data": {
      "image/png": "[encoded data removed]",
      "text/plain": [
       "<Figure size 432x288 with 1 Axes>"
      ]
     },
     "metadata": {
      "needs_background": "light"
     },
     "output_type": "display_data"
    }
   ],
   "source": [
    "sns.distplot(xx.reaction_time)"
   ]
  },
  {
   "cell_type": "code",
   "execution_count": 26,
   "metadata": {},
   "outputs": [
    {
     "data": {
      "text/plain": [
       "<matplotlib.axes._subplots.AxesSubplot at 0x1c509f671c8>"
      ]
     },
     "execution_count": 26,
     "metadata": {},
     "output_type": "execute_result"
    },
    {
     "data": {
      "image/png": "[encoded data removed]",
      "text/plain": [
       "<Figure size 432x288 with 1 Axes>"
      ]
     },
     "metadata": {
      "needs_background": "light"
     },
     "output_type": "display_data"
    }
   ],
   "source": [
    "xx.reaction_time.plot.box()"
   ]
  },
  {
   "cell_type": "code",
   "execution_count": null,
   "metadata": {},
   "outputs": [],
   "source": []
  }
 ],
 "metadata": {
  "kernelspec": {
   "display_name": "Python 3",
   "language": "python",
   "name": "python3"
  },
  "language_info": {
   "codemirror_mode": {
    "name": "ipython",
    "version": 3
   },
   "file_extension": ".py",
   "mimetype": "text/x-python",
   "name": "python",
   "nbconvert_exporter": "python",
   "pygments_lexer": "ipython3",
   "version": "3.7.7"
  }
 },
 "nbformat": 4,
 "nbformat_minor": 4
}
