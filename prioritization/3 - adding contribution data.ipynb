{
 "cells": [
  {
   "cell_type": "code",
   "execution_count": 1,
   "metadata": {},
   "outputs": [],
   "source": [
    "import pandas as pd\n",
    "import json\n",
    "import ast\n",
    "import numpy as np\n",
    "from datetime import datetime\n",
    "import time\n",
    "import re\n",
    "from statistics import mean \n",
    "import fasttext"
   ]
  },
  {
   "cell_type": "code",
   "execution_count": 2,
   "metadata": {},
   "outputs": [],
   "source": [
    "repos = [\"okhttp\", \"retrofit\", \"RxJava\", \"guava\", \"spring-boot\", \"spring-framework\", \"elasticsearch\"]\n",
    "dataframes = []"
   ]
  },
  {
   "cell_type": "code",
   "execution_count": null,
   "metadata": {},
   "outputs": [],
   "source": [
    "for repo in repos:\n",
    "    print(repo)\n",
    "    df = pd.read_csv(\"../data/repos/2/\" + repo + \".csv\")\n",
    "    with open(\"cntrb/\" + repo + \"_github_cntrb.txt\") as f:\n",
    "        github_cntrb = json.loads(f.read())\n",
    "    df[\"author_github_cntrb\"] = df[\"author_login\"].apply(lambda x: github_cntrb[x])\n",
    "    df[\"author_github_cntrb\"] = df[\"author_github_cntrb\"].fillna(0)\n",
    "    df[\"closer_github_cntrb\"] = df[\"closer_login\"].apply(lambda x: np.nan if pd.isna(x) else 0 if pd.isna(github_cntrb[x]) else github_cntrb[x])\n",
    "\n",
    "\n",
    "    with open(\"cntrb/\" + repo + \"_repo_cntrb.txt\") as f:\n",
    "        repo_cntrb = json.loads(f.read())\n",
    "    df[\"author_repo_cntrb\"] = df[\"author_login\"].apply(lambda x: 0 if not x in repo_cntrb else repo_cntrb[x])\n",
    "    df[\"closer_repo_cntrb\"] = df[\"closer_login\"].apply(lambda x: np.nan if pd.isna(x) else 0 if not x in repo_cntrb else repo_cntrb[x])\n",
    "        \n",
    "    df.to_csv(\"../data/repos/3/\" + repo + \".csv\", index=False)\n",
    "    dataframes.append(df)"
   ]
  },
  {
   "cell_type": "code",
   "execution_count": 4,
   "metadata": {},
   "outputs": [],
   "source": [
    "agg = pd.concat(dataframes, ignore_index=True)\n",
    "agg.to_csv(\"../data/repos/3/allrepos.csv\", index=False)"
   ]
  },
  {
   "cell_type": "code",
   "execution_count": null,
   "metadata": {},
   "outputs": [],
   "source": []
  }
 ],
 "metadata": {
  "kernelspec": {
   "display_name": "Python 3",
   "language": "python",
   "name": "python3"
  },
  "language_info": {
   "codemirror_mode": {
    "name": "ipython",
    "version": 3
   },
   "file_extension": ".py",
   "mimetype": "text/x-python",
   "name": "python",
   "nbconvert_exporter": "python",
   "pygments_lexer": "ipython3",
   "version": "3.7.6"
  }
 },
 "nbformat": 4,
 "nbformat_minor": 4
}
